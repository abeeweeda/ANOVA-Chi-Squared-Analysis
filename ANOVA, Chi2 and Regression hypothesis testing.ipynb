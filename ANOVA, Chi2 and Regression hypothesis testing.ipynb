{
 "cells": [
  {
   "cell_type": "markdown",
   "metadata": {},
   "source": [
    "**Inferential Statistics** is mainly used to test a sample and how that sample holds for entire population ,Hypothesis testing is one of the most important inferential tools."
   ]
  },
  {
   "cell_type": "markdown",
   "metadata": {},
   "source": [
    "|                |               |              |\n",
    "|----------------|---------------|--------------|\n",
    "|Response Var    |Categorical    |Quantitative  |\n",
    "|Explanatory Var |               |              |\n",
    "|Categorical     |Chi Square     |ANOVA         |\n",
    "|Quantitative    |Chi Square     |Correlation    |\n",
    "             "
   ]
  },
  {
   "cell_type": "markdown",
   "metadata": {},
   "source": [
    "Above table defines rule when to apply which test, When Explanatory Variable \n",
    "is Categorical and Response Variable in Quantitative we use ANOVA, similar for \n",
    "other combinations also, but when Explanatory Variable is Quantitative and \n",
    "Response Variable is Categorical we convert Qunatitative Variable to Categorical \n",
    "and then use Chi Square, other two cases are clear from above table"
   ]
  },
  {
   "cell_type": "markdown",
   "metadata": {},
   "source": [
    "### Exploratory Data Analysis\n",
    "first doing some basic EDA"
   ]
  },
  {
   "cell_type": "code",
   "execution_count": 1,
   "metadata": {
    "collapsed": true
   },
   "outputs": [],
   "source": [
    "import pandas as pd\n",
    "import numpy as np"
   ]
  },
  {
   "cell_type": "code",
   "execution_count": 2,
   "metadata": {
    "collapsed": true
   },
   "outputs": [],
   "source": [
    "import os"
   ]
  },
  {
   "cell_type": "code",
   "execution_count": 3,
   "metadata": {
    "collapsed": true
   },
   "outputs": [],
   "source": [
    "filepath = r'C:\\Users\\avishek\\Downloads\\DataFiles\\hypothesis'"
   ]
  },
  {
   "cell_type": "code",
   "execution_count": 10,
   "metadata": {},
   "outputs": [],
   "source": [
    "filenames = ['\\\\'.join([filepath, filename]) for filename in os.listdir(filepath) if filename.endswith('.csv')]"
   ]
  },
  {
   "cell_type": "code",
   "execution_count": 11,
   "metadata": {},
   "outputs": [
    {
     "data": {
      "text/plain": [
       "['C:\\\\Users\\\\avishek\\\\Downloads\\\\DataFiles\\\\hypothesis\\\\addhealth.csv',\n",
       " 'C:\\\\Users\\\\avishek\\\\Downloads\\\\DataFiles\\\\hypothesis\\\\gapminder.csv',\n",
       " 'C:\\\\Users\\\\avishek\\\\Downloads\\\\DataFiles\\\\hypothesis\\\\marscrater.csv',\n",
       " 'C:\\\\Users\\\\avishek\\\\Downloads\\\\DataFiles\\\\hypothesis\\\\nesarc.csv',\n",
       " 'C:\\\\Users\\\\avishek\\\\Downloads\\\\DataFiles\\\\hypothesis\\\\ool.csv']"
      ]
     },
     "execution_count": 11,
     "metadata": {},
     "output_type": "execute_result"
    }
   ],
   "source": [
    "filenames"
   ]
  },
  {
   "cell_type": "markdown",
   "metadata": {},
   "source": [
    "#### Here we will use the gapminder Data as it is properly labeled"
   ]
  },
  {
   "cell_type": "code",
   "execution_count": 12,
   "metadata": {
    "collapsed": true
   },
   "outputs": [],
   "source": [
    "#the file size is small but then also will try to load in a iterative way just to show how to load large files\n",
    "chunks = pd.read_csv(filenames[1], iterator=True, chunksize=500, low_memory=True)\n",
    "data = pd.concat(chunk for chunk in chunks)"
   ]
  },
  {
   "cell_type": "code",
   "execution_count": 13,
   "metadata": {},
   "outputs": [
    {
     "data": {
      "text/plain": [
       "(213, 16)"
      ]
     },
     "execution_count": 13,
     "metadata": {},
     "output_type": "execute_result"
    }
   ],
   "source": [
    "data.shape"
   ]
  },
  {
   "cell_type": "code",
   "execution_count": 15,
   "metadata": {},
   "outputs": [
    {
     "data": {
      "text/plain": [
       "array(['country', 'incomeperperson', 'alcconsumption', 'armedforcesrate',\n",
       "       'breastcancerper100th', 'co2emissions', 'femaleemployrate',\n",
       "       'hivrate', 'internetuserate', 'lifeexpectancy', 'oilperperson',\n",
       "       'polityscore', 'relectricperperson', 'suicideper100th',\n",
       "       'employrate', 'urbanrate'], dtype=object)"
      ]
     },
     "execution_count": 15,
     "metadata": {},
     "output_type": "execute_result"
    }
   ],
   "source": [
    "data.columns.values"
   ]
  },
  {
   "cell_type": "code",
   "execution_count": 16,
   "metadata": {},
   "outputs": [
    {
     "data": {
      "text/plain": [
       "country                 object\n",
       "incomeperperson         object\n",
       "alcconsumption          object\n",
       "armedforcesrate         object\n",
       "breastcancerper100th    object\n",
       "co2emissions            object\n",
       "femaleemployrate        object\n",
       "hivrate                 object\n",
       "internetuserate         object\n",
       "lifeexpectancy          object\n",
       "oilperperson            object\n",
       "polityscore             object\n",
       "relectricperperson      object\n",
       "suicideper100th         object\n",
       "employrate              object\n",
       "urbanrate               object\n",
       "dtype: object"
      ]
     },
     "execution_count": 16,
     "metadata": {},
     "output_type": "execute_result"
    }
   ],
   "source": [
    "data.dtypes"
   ]
  },
  {
   "cell_type": "markdown",
   "metadata": {},
   "source": [
    "As we can see above all the dtypes are object we have to convert to numeric to do operations apart from country we will convert every thing to numeric"
   ]
  },
  {
   "cell_type": "code",
   "execution_count": 18,
   "metadata": {},
   "outputs": [],
   "source": [
    "column_names = list(data.columns.values)"
   ]
  },
  {
   "cell_type": "code",
   "execution_count": 19,
   "metadata": {},
   "outputs": [
    {
     "data": {
      "text/plain": [
       "'country'"
      ]
     },
     "execution_count": 19,
     "metadata": {},
     "output_type": "execute_result"
    }
   ],
   "source": [
    "column_names[0]"
   ]
  },
  {
   "cell_type": "code",
   "execution_count": 26,
   "metadata": {},
   "outputs": [],
   "source": [
    "for i in range(1, len(column_names)):\n",
    "    column = column_names[i]\n",
    "    data[column] = pd.to_numeric(data[column], errors='coerce')"
   ]
  },
  {
   "cell_type": "code",
   "execution_count": 27,
   "metadata": {},
   "outputs": [
    {
     "data": {
      "text/plain": [
       "country                  object\n",
       "incomeperperson         float64\n",
       "alcconsumption          float64\n",
       "armedforcesrate         float64\n",
       "breastcancerper100th    float64\n",
       "co2emissions            float64\n",
       "femaleemployrate        float64\n",
       "hivrate                 float64\n",
       "internetuserate         float64\n",
       "lifeexpectancy          float64\n",
       "oilperperson            float64\n",
       "polityscore             float64\n",
       "relectricperperson      float64\n",
       "suicideper100th         float64\n",
       "employrate              float64\n",
       "urbanrate               float64\n",
       "dtype: object"
      ]
     },
     "execution_count": 27,
     "metadata": {},
     "output_type": "execute_result"
    }
   ],
   "source": [
    "#again checking dtypes and we can see all the columns are successfully converted to numerics\n",
    "data.dtypes"
   ]
  },
  {
   "cell_type": "code",
   "execution_count": 29,
   "metadata": {
    "collapsed": true
   },
   "outputs": [],
   "source": [
    "#setting limit on how many columns and rows to show for pandas dataframe, None means maximum\n",
    "pd.set_option('display.max_columns', None)\n",
    "pd.set_option('display.max_rows', None)"
   ]
  },
  {
   "cell_type": "code",
   "execution_count": 31,
   "metadata": {},
   "outputs": [
    {
     "data": {
      "text/html": [
       "<div>\n",
       "<style>\n",
       "    .dataframe thead tr:only-child th {\n",
       "        text-align: right;\n",
       "    }\n",
       "\n",
       "    .dataframe thead th {\n",
       "        text-align: left;\n",
       "    }\n",
       "\n",
       "    .dataframe tbody tr th {\n",
       "        vertical-align: top;\n",
       "    }\n",
       "</style>\n",
       "<table border=\"1\" class=\"dataframe\">\n",
       "  <thead>\n",
       "    <tr style=\"text-align: right;\">\n",
       "      <th></th>\n",
       "      <th>incomeperperson</th>\n",
       "      <th>alcconsumption</th>\n",
       "      <th>armedforcesrate</th>\n",
       "      <th>breastcancerper100th</th>\n",
       "      <th>co2emissions</th>\n",
       "      <th>femaleemployrate</th>\n",
       "      <th>hivrate</th>\n",
       "      <th>internetuserate</th>\n",
       "      <th>lifeexpectancy</th>\n",
       "      <th>oilperperson</th>\n",
       "      <th>polityscore</th>\n",
       "      <th>relectricperperson</th>\n",
       "      <th>suicideper100th</th>\n",
       "      <th>employrate</th>\n",
       "      <th>urbanrate</th>\n",
       "    </tr>\n",
       "  </thead>\n",
       "  <tbody>\n",
       "    <tr>\n",
       "      <th>count</th>\n",
       "      <td>190.000000</td>\n",
       "      <td>187.000000</td>\n",
       "      <td>164.000000</td>\n",
       "      <td>173.000000</td>\n",
       "      <td>2.000000e+02</td>\n",
       "      <td>178.000000</td>\n",
       "      <td>147.000000</td>\n",
       "      <td>192.000000</td>\n",
       "      <td>191.000000</td>\n",
       "      <td>63.000000</td>\n",
       "      <td>161.000000</td>\n",
       "      <td>136.000000</td>\n",
       "      <td>191.000000</td>\n",
       "      <td>178.000000</td>\n",
       "      <td>203.000000</td>\n",
       "    </tr>\n",
       "    <tr>\n",
       "      <th>mean</th>\n",
       "      <td>8740.966076</td>\n",
       "      <td>6.689412</td>\n",
       "      <td>1.444016</td>\n",
       "      <td>37.402890</td>\n",
       "      <td>5.033262e+09</td>\n",
       "      <td>47.549438</td>\n",
       "      <td>1.935442</td>\n",
       "      <td>35.632716</td>\n",
       "      <td>69.753524</td>\n",
       "      <td>1.484085</td>\n",
       "      <td>3.689441</td>\n",
       "      <td>1173.178995</td>\n",
       "      <td>9.640839</td>\n",
       "      <td>58.635955</td>\n",
       "      <td>56.769360</td>\n",
       "    </tr>\n",
       "    <tr>\n",
       "      <th>std</th>\n",
       "      <td>14262.809083</td>\n",
       "      <td>4.899617</td>\n",
       "      <td>1.709008</td>\n",
       "      <td>22.697901</td>\n",
       "      <td>2.573812e+10</td>\n",
       "      <td>14.625743</td>\n",
       "      <td>4.376727</td>\n",
       "      <td>27.780285</td>\n",
       "      <td>9.708621</td>\n",
       "      <td>1.825090</td>\n",
       "      <td>6.314899</td>\n",
       "      <td>1681.440173</td>\n",
       "      <td>6.300178</td>\n",
       "      <td>10.519454</td>\n",
       "      <td>23.844933</td>\n",
       "    </tr>\n",
       "    <tr>\n",
       "      <th>min</th>\n",
       "      <td>103.775857</td>\n",
       "      <td>0.030000</td>\n",
       "      <td>0.000000</td>\n",
       "      <td>3.900000</td>\n",
       "      <td>1.320000e+05</td>\n",
       "      <td>11.300000</td>\n",
       "      <td>0.060000</td>\n",
       "      <td>0.210066</td>\n",
       "      <td>47.794000</td>\n",
       "      <td>0.032281</td>\n",
       "      <td>-10.000000</td>\n",
       "      <td>0.000000</td>\n",
       "      <td>0.201449</td>\n",
       "      <td>32.000000</td>\n",
       "      <td>10.400000</td>\n",
       "    </tr>\n",
       "    <tr>\n",
       "      <th>25%</th>\n",
       "      <td>748.245151</td>\n",
       "      <td>2.625000</td>\n",
       "      <td>0.480907</td>\n",
       "      <td>20.600000</td>\n",
       "      <td>3.484617e+07</td>\n",
       "      <td>38.725000</td>\n",
       "      <td>0.100000</td>\n",
       "      <td>9.999604</td>\n",
       "      <td>64.447000</td>\n",
       "      <td>0.532541</td>\n",
       "      <td>-2.000000</td>\n",
       "      <td>203.652109</td>\n",
       "      <td>4.988449</td>\n",
       "      <td>51.225000</td>\n",
       "      <td>36.830000</td>\n",
       "    </tr>\n",
       "    <tr>\n",
       "      <th>50%</th>\n",
       "      <td>2553.496056</td>\n",
       "      <td>5.920000</td>\n",
       "      <td>0.930638</td>\n",
       "      <td>30.000000</td>\n",
       "      <td>1.859018e+08</td>\n",
       "      <td>47.549999</td>\n",
       "      <td>0.400000</td>\n",
       "      <td>31.810121</td>\n",
       "      <td>73.131000</td>\n",
       "      <td>1.032470</td>\n",
       "      <td>6.000000</td>\n",
       "      <td>597.136436</td>\n",
       "      <td>8.262893</td>\n",
       "      <td>58.699999</td>\n",
       "      <td>57.940000</td>\n",
       "    </tr>\n",
       "    <tr>\n",
       "      <th>75%</th>\n",
       "      <td>9379.891165</td>\n",
       "      <td>9.925000</td>\n",
       "      <td>1.611383</td>\n",
       "      <td>50.300000</td>\n",
       "      <td>1.846084e+09</td>\n",
       "      <td>55.875000</td>\n",
       "      <td>1.300000</td>\n",
       "      <td>56.416046</td>\n",
       "      <td>76.593000</td>\n",
       "      <td>1.622737</td>\n",
       "      <td>9.000000</td>\n",
       "      <td>1491.145249</td>\n",
       "      <td>12.328551</td>\n",
       "      <td>64.975000</td>\n",
       "      <td>74.210000</td>\n",
       "    </tr>\n",
       "    <tr>\n",
       "      <th>max</th>\n",
       "      <td>105147.437697</td>\n",
       "      <td>23.010000</td>\n",
       "      <td>10.638521</td>\n",
       "      <td>101.100000</td>\n",
       "      <td>3.342209e+11</td>\n",
       "      <td>83.300003</td>\n",
       "      <td>25.900000</td>\n",
       "      <td>95.638113</td>\n",
       "      <td>83.394000</td>\n",
       "      <td>12.228645</td>\n",
       "      <td>10.000000</td>\n",
       "      <td>11154.755033</td>\n",
       "      <td>35.752872</td>\n",
       "      <td>83.199997</td>\n",
       "      <td>100.000000</td>\n",
       "    </tr>\n",
       "  </tbody>\n",
       "</table>\n",
       "</div>"
      ],
      "text/plain": [
       "       incomeperperson  alcconsumption  armedforcesrate  breastcancerper100th  \\\n",
       "count       190.000000      187.000000       164.000000            173.000000   \n",
       "mean       8740.966076        6.689412         1.444016             37.402890   \n",
       "std       14262.809083        4.899617         1.709008             22.697901   \n",
       "min         103.775857        0.030000         0.000000              3.900000   \n",
       "25%         748.245151        2.625000         0.480907             20.600000   \n",
       "50%        2553.496056        5.920000         0.930638             30.000000   \n",
       "75%        9379.891165        9.925000         1.611383             50.300000   \n",
       "max      105147.437697       23.010000        10.638521            101.100000   \n",
       "\n",
       "       co2emissions  femaleemployrate     hivrate  internetuserate  \\\n",
       "count  2.000000e+02        178.000000  147.000000       192.000000   \n",
       "mean   5.033262e+09         47.549438    1.935442        35.632716   \n",
       "std    2.573812e+10         14.625743    4.376727        27.780285   \n",
       "min    1.320000e+05         11.300000    0.060000         0.210066   \n",
       "25%    3.484617e+07         38.725000    0.100000         9.999604   \n",
       "50%    1.859018e+08         47.549999    0.400000        31.810121   \n",
       "75%    1.846084e+09         55.875000    1.300000        56.416046   \n",
       "max    3.342209e+11         83.300003   25.900000        95.638113   \n",
       "\n",
       "       lifeexpectancy  oilperperson  polityscore  relectricperperson  \\\n",
       "count      191.000000     63.000000   161.000000          136.000000   \n",
       "mean        69.753524      1.484085     3.689441         1173.178995   \n",
       "std          9.708621      1.825090     6.314899         1681.440173   \n",
       "min         47.794000      0.032281   -10.000000            0.000000   \n",
       "25%         64.447000      0.532541    -2.000000          203.652109   \n",
       "50%         73.131000      1.032470     6.000000          597.136436   \n",
       "75%         76.593000      1.622737     9.000000         1491.145249   \n",
       "max         83.394000     12.228645    10.000000        11154.755033   \n",
       "\n",
       "       suicideper100th  employrate   urbanrate  \n",
       "count       191.000000  178.000000  203.000000  \n",
       "mean          9.640839   58.635955   56.769360  \n",
       "std           6.300178   10.519454   23.844933  \n",
       "min           0.201449   32.000000   10.400000  \n",
       "25%           4.988449   51.225000   36.830000  \n",
       "50%           8.262893   58.699999   57.940000  \n",
       "75%          12.328551   64.975000   74.210000  \n",
       "max          35.752872   83.199997  100.000000  "
      ]
     },
     "execution_count": 31,
     "metadata": {},
     "output_type": "execute_result"
    }
   ],
   "source": [
    "#to get a basic understanding of data\n",
    "data.describe()"
   ]
  },
  {
   "cell_type": "code",
   "execution_count": 32,
   "metadata": {},
   "outputs": [
    {
     "data": {
      "text/plain": [
       "country                   0\n",
       "incomeperperson          23\n",
       "alcconsumption           26\n",
       "armedforcesrate          49\n",
       "breastcancerper100th     40\n",
       "co2emissions             13\n",
       "femaleemployrate         35\n",
       "hivrate                  66\n",
       "internetuserate          21\n",
       "lifeexpectancy           22\n",
       "oilperperson            150\n",
       "polityscore              52\n",
       "relectricperperson       77\n",
       "suicideper100th          22\n",
       "employrate               35\n",
       "urbanrate                10\n",
       "dtype: int64"
      ]
     },
     "execution_count": 32,
     "metadata": {},
     "output_type": "execute_result"
    }
   ],
   "source": [
    "#to check nulls in every column, apply will do series wise operation\n",
    "#as we can see all the columns are having null values apart from country, also oilperperson is haivng 150 null values \n",
    "#out of 213(no. of rows) so we can ignore that column\n",
    "#also remember the data is country wise\n",
    "data.apply(lambda x : sum(x.isnull()))"
   ]
  },
  {
   "cell_type": "code",
   "execution_count": 34,
   "metadata": {},
   "outputs": [
    {
     "data": {
      "text/plain": [
       "country                 213\n",
       "incomeperperson         190\n",
       "alcconsumption          180\n",
       "armedforcesrate         164\n",
       "breastcancerper100th    136\n",
       "co2emissions            200\n",
       "femaleemployrate        153\n",
       "hivrate                  46\n",
       "internetuserate         192\n",
       "lifeexpectancy          189\n",
       "oilperperson             63\n",
       "polityscore              21\n",
       "relectricperperson      132\n",
       "suicideper100th         191\n",
       "employrate              139\n",
       "urbanrate               194\n",
       "dtype: int64"
      ]
     },
     "execution_count": 34,
     "metadata": {},
     "output_type": "execute_result"
    }
   ],
   "source": [
    "#now checking no of uniques from each column\n",
    "data.apply(lambda x : x.nunique())"
   ]
  },
  {
   "cell_type": "code",
   "execution_count": 35,
   "metadata": {},
   "outputs": [
    {
     "data": {
      "text/plain": [
       "incomeperperson          3.250478\n",
       "alcconsumption           0.619112\n",
       "armedforcesrate          2.807011\n",
       "breastcancerper100th     1.041531\n",
       "co2emissions            11.026398\n",
       "femaleemployrate         0.018634\n",
       "hivrate                  3.827599\n",
       "internetuserate          0.455625\n",
       "lifeexpectancy          -0.822406\n",
       "oilperperson             3.865407\n",
       "polityscore             -0.722683\n",
       "relectricperperson       3.179511\n",
       "suicideper100th          1.411813\n",
       "employrate               0.139842\n",
       "urbanrate               -0.018848\n",
       "dtype: float64"
      ]
     },
     "execution_count": 35,
     "metadata": {},
     "output_type": "execute_result"
    }
   ],
   "source": [
    "#also we can check for skew in our data\n",
    "data.skew()"
   ]
  },
  {
   "cell_type": "markdown",
   "metadata": {},
   "source": [
    "**negative** **skew**: The left tail is longer; the mass of the distribution is concentrated on the right of the figure. The distribution is said to be left-skewed, left-tailed, or skewed to the left, despite the fact that the curve itself appears to be skewed or leaning to the right; left instead refers to the left tail being drawn out and, often, the mean being skewed to the left of a typical center of the data. A left-skewed distribution usually appears as a right-leaning curve.\n",
    "\n",
    "**positive skew**: The right tail is longer; the mass of the distribution is concentrated on the left of the figure. The distribution is said to be right-skewed, right-tailed, or skewed to the right, despite the fact that the curve itself appears to be skewed or leaning to the left; right instead refers to the right tail being drawn out and, often, the mean being skewed to the right of a typical center of the data. A right-skewed distribution usually appears as a left-leaning curve."
   ]
  },
  {
   "cell_type": "markdown",
   "metadata": {},
   "source": [
    "<img src=\"skew.jpg\">"
   ]
  },
  {
   "cell_type": "markdown",
   "metadata": {},
   "source": [
    "#### Central Limit Theorem [wikipedia](https://en.wikipedia.org/wiki/Central_limit_theorem)\n",
    "Distribution of the statistics of samples will be normally distributed given adequate number \n",
    "and size of samples are taken\n"
   ]
  },
  {
   "cell_type": "markdown",
   "metadata": {},
   "source": [
    "**Hypothesis Testing** <br>\n",
    "    Null Hypothesis : There is no relation between Explanatory and Response variable. <br>\n",
    "    Alternate Hypothesis : There is a Relation.\n"
   ]
  },
  {
   "cell_type": "markdown",
   "metadata": {},
   "source": [
    "**P Value**  (also called type 1 error rate) <br>\n",
    "No. of times out of 100 we would be wrong if we reject the null hypothesis <br>\n",
    "so for our hypothesis test we take p-value(alpha) to be .05 or 5%, means if p-value if less than .05 we can reject the null hypothesis"
   ]
  },
  {
   "cell_type": "markdown",
   "metadata": {},
   "source": [
    "** ANOVA, Chi Square and Regresssion are BIVARIATE tests"
   ]
  },
  {
   "cell_type": "markdown",
   "metadata": {},
   "source": [
    "**example**: we take four samples (50 each) from a population and test something e.g. four samples will be race (explanatory var) of people and the no of times they eat non-veg(response var) in a week, now if the mean no. non-veg eating in a week for all the races are equal then we have evidence in favour of **null hypothesis** as it tells that non-veg eating is not dependent on race but if all the means are not equal we have evidence against null hypothesis means these two things are dependent so we take **alternate hypothesis**"
   ]
  },
  {
   "cell_type": "code",
   "execution_count": null,
   "metadata": {
    "collapsed": true
   },
   "outputs": [],
   "source": []
  },
  {
   "cell_type": "markdown",
   "metadata": {},
   "source": [
    "## ANOVA"
   ]
  },
  {
   "cell_type": "markdown",
   "metadata": {},
   "source": [
    "what we test in ANOVA - are the differences among the sample means due to true differences among the \n",
    "population means or mearly due to sampling variablility (The term \"sampling variability\" refers to the fact that the statistical information from a sample (called a statistic) will vary as the random sampling is repeated)\n",
    "\n",
    "ANOVA F test - it states that not only we need to see the \"variation among the sample means\" but also the \"variation within groups\"\n",
    "\n",
    "The formula for the **f value** is below"
   ]
  },
  {
   "cell_type": "code",
   "execution_count": 78,
   "metadata": {},
   "outputs": [
    {
     "data": {
      "text/latex": [
       "\\begin{align}\n",
       "f& =\\frac{variation\\hspace{0.2cm}among\\hspace{0.2cm}sample\\hspace{0.2cm}means}{variation\\hspace{0.2cm}within\\hspace{0.2cm}groups}\n",
       "\\end{align}"
      ],
      "text/plain": [
       "<IPython.core.display.Latex object>"
      ]
     },
     "metadata": {},
     "output_type": "display_data"
    }
   ],
   "source": [
    "%%latex\n",
    "\\begin{align}\n",
    "f& =\\frac{variation\\hspace{0.2cm}among\\hspace{0.2cm}sample\\hspace{0.2cm}means}{variation\\hspace{0.2cm}within\\hspace{0.2cm}groups}\n",
    "\\end{align}"
   ]
  },
  {
   "cell_type": "markdown",
   "metadata": {},
   "source": [
    "from above formula we can infer that if the \"variation among sample means\" dominates \"variation within groups\" then the data provides very little evidence against null hypothesis ,but if domination is vice versa we have strong evidence against null hypothesis"
   ]
  },
  {
   "cell_type": "markdown",
   "metadata": {},
   "source": [
    "As from the table we can see to test for ANOVA our explanatory variable should be Categorical and our\n",
    "response variable should be quantitative. \n",
    "Here we will test if alcohol consumption (Explanatory - which we will convert to categorical) has effect on suicideper100 (Response)"
   ]
  },
  {
   "cell_type": "code",
   "execution_count": 119,
   "metadata": {
    "collapsed": true
   },
   "outputs": [],
   "source": [
    "#now we will make our test data frame and remove nulls\n",
    "data_test = data[['alcconsumption', 'suicideper100th']].copy()\n",
    "data_test.dropna(inplace=True)"
   ]
  },
  {
   "cell_type": "code",
   "execution_count": 120,
   "metadata": {},
   "outputs": [],
   "source": [
    "#here we create a new variable \n",
    "data_test['alcoholCategory'] = pd.cut(data_test['alcconsumption'], bins=2, labels=[1,2], include_lowest=True)"
   ]
  },
  {
   "cell_type": "code",
   "execution_count": 121,
   "metadata": {},
   "outputs": [
    {
     "data": {
      "text/plain": [
       "[1, 2]\n",
       "Categories (2, int64): [1 < 2]"
      ]
     },
     "execution_count": 121,
     "metadata": {},
     "output_type": "execute_result"
    }
   ],
   "source": [
    "#as we can see we divided our alcohol consumption into a categorical variable with two values\n",
    "data_test['alcoholCategory'].unique()"
   ]
  },
  {
   "cell_type": "code",
   "execution_count": 123,
   "metadata": {
    "collapsed": true
   },
   "outputs": [],
   "source": [
    "data_test = data_test.drop('alcconsumption', 1)"
   ]
  },
  {
   "cell_type": "code",
   "execution_count": 124,
   "metadata": {},
   "outputs": [
    {
     "data": {
      "text/plain": [
       "suicideper100th    0\n",
       "alcoholCategory    0\n",
       "dtype: int64"
      ]
     },
     "execution_count": 124,
     "metadata": {},
     "output_type": "execute_result"
    }
   ],
   "source": [
    "#as we can we dont have any nulls \n",
    "data_test.apply(lambda x : sum(x.isnull()))"
   ]
  },
  {
   "cell_type": "code",
   "execution_count": 125,
   "metadata": {},
   "outputs": [
    {
     "data": {
      "text/plain": [
       "370"
      ]
     },
     "execution_count": 125,
     "metadata": {},
     "output_type": "execute_result"
    }
   ],
   "source": [
    "data_test.size\n",
    "#number of rows"
   ]
  },
  {
   "cell_type": "code",
   "execution_count": 126,
   "metadata": {},
   "outputs": [
    {
     "data": {
      "text/plain": [
       "suicideper100th     float64\n",
       "alcoholCategory    category\n",
       "dtype: object"
      ]
     },
     "execution_count": 126,
     "metadata": {},
     "output_type": "execute_result"
    }
   ],
   "source": [
    "data_test.dtypes"
   ]
  },
  {
   "cell_type": "code",
   "execution_count": 103,
   "metadata": {
    "collapsed": true
   },
   "outputs": [],
   "source": [
    "#importing the required libraries for doing the test\n",
    "import statsmodels.formula.api as smf"
   ]
  },
  {
   "cell_type": "code",
   "execution_count": 127,
   "metadata": {},
   "outputs": [
    {
     "data": {
      "text/html": [
       "<table class=\"simpletable\">\n",
       "<caption>OLS Regression Results</caption>\n",
       "<tr>\n",
       "  <th>Dep. Variable:</th>     <td>suicideper100th</td> <th>  R-squared:         </th> <td>   0.093</td>\n",
       "</tr>\n",
       "<tr>\n",
       "  <th>Model:</th>                   <td>OLS</td>       <th>  Adj. R-squared:    </th> <td>   0.088</td>\n",
       "</tr>\n",
       "<tr>\n",
       "  <th>Method:</th>             <td>Least Squares</td>  <th>  F-statistic:       </th> <td>   18.73</td>\n",
       "</tr>\n",
       "<tr>\n",
       "  <th>Date:</th>             <td>Sun, 01 Oct 2017</td> <th>  Prob (F-statistic):</th> <td>2.48e-05</td>\n",
       "</tr>\n",
       "<tr>\n",
       "  <th>Time:</th>                 <td>22:31:48</td>     <th>  Log-Likelihood:    </th> <td> -593.60</td>\n",
       "</tr>\n",
       "<tr>\n",
       "  <th>No. Observations:</th>      <td>   185</td>      <th>  AIC:               </th> <td>   1191.</td>\n",
       "</tr>\n",
       "<tr>\n",
       "  <th>Df Residuals:</th>          <td>   183</td>      <th>  BIC:               </th> <td>   1198.</td>\n",
       "</tr>\n",
       "<tr>\n",
       "  <th>Df Model:</th>              <td>     1</td>      <th>                     </th>     <td> </td>   \n",
       "</tr>\n",
       "<tr>\n",
       "  <th>Covariance Type:</th>      <td>nonrobust</td>    <th>                     </th>     <td> </td>   \n",
       "</tr>\n",
       "</table>\n",
       "<table class=\"simpletable\">\n",
       "<tr>\n",
       "             <td></td>                <th>coef</th>     <th>std err</th>      <th>t</th>      <th>P>|t|</th>  <th>[0.025</th>    <th>0.975]</th>  \n",
       "</tr>\n",
       "<tr>\n",
       "  <th>Intercept</th>               <td>    8.7042</td> <td>    0.488</td> <td>   17.825</td> <td> 0.000</td> <td>    7.741</td> <td>    9.668</td>\n",
       "</tr>\n",
       "<tr>\n",
       "  <th>C(alcoholCategory)[T.2]</th> <td>    5.0035</td> <td>    1.156</td> <td>    4.328</td> <td> 0.000</td> <td>    2.722</td> <td>    7.285</td>\n",
       "</tr>\n",
       "</table>\n",
       "<table class=\"simpletable\">\n",
       "<tr>\n",
       "  <th>Omnibus:</th>       <td>59.701</td> <th>  Durbin-Watson:     </th> <td>   2.120</td>\n",
       "</tr>\n",
       "<tr>\n",
       "  <th>Prob(Omnibus):</th> <td> 0.000</td> <th>  Jarque-Bera (JB):  </th> <td> 141.247</td>\n",
       "</tr>\n",
       "<tr>\n",
       "  <th>Skew:</th>          <td> 1.431</td> <th>  Prob(JB):          </th> <td>2.13e-31</td>\n",
       "</tr>\n",
       "<tr>\n",
       "  <th>Kurtosis:</th>      <td> 6.183</td> <th>  Cond. No.          </th> <td>    2.71</td>\n",
       "</tr>\n",
       "</table>"
      ],
      "text/plain": [
       "<class 'statsmodels.iolib.summary.Summary'>\n",
       "\"\"\"\n",
       "                            OLS Regression Results                            \n",
       "==============================================================================\n",
       "Dep. Variable:        suicideper100th   R-squared:                       0.093\n",
       "Model:                            OLS   Adj. R-squared:                  0.088\n",
       "Method:                 Least Squares   F-statistic:                     18.73\n",
       "Date:                Sun, 01 Oct 2017   Prob (F-statistic):           2.48e-05\n",
       "Time:                        22:31:48   Log-Likelihood:                -593.60\n",
       "No. Observations:                 185   AIC:                             1191.\n",
       "Df Residuals:                     183   BIC:                             1198.\n",
       "Df Model:                           1                                         \n",
       "Covariance Type:            nonrobust                                         \n",
       "===========================================================================================\n",
       "                              coef    std err          t      P>|t|      [0.025      0.975]\n",
       "-------------------------------------------------------------------------------------------\n",
       "Intercept                   8.7042      0.488     17.825      0.000       7.741       9.668\n",
       "C(alcoholCategory)[T.2]     5.0035      1.156      4.328      0.000       2.722       7.285\n",
       "==============================================================================\n",
       "Omnibus:                       59.701   Durbin-Watson:                   2.120\n",
       "Prob(Omnibus):                  0.000   Jarque-Bera (JB):              141.247\n",
       "Skew:                           1.431   Prob(JB):                     2.13e-31\n",
       "Kurtosis:                       6.183   Cond. No.                         2.71\n",
       "==============================================================================\n",
       "\n",
       "Warnings:\n",
       "[1] Standard Errors assume that the covariance matrix of the errors is correctly specified.\n",
       "\"\"\""
      ]
     },
     "execution_count": 127,
     "metadata": {},
     "output_type": "execute_result"
    }
   ],
   "source": [
    "#here we are using ols - ordinary least square , also below is the syntax\n",
    "model1 = smf.ols(formula='suicideper100th ~ C(alcoholCategory)', data=data_test)\n",
    "results1 = model1.fit()\n",
    "results1.summary()"
   ]
  },
  {
   "cell_type": "markdown",
   "metadata": {},
   "source": [
    "Now from above result we can see our f value is larger also our p value is significantly smaller than 0.05 which \n",
    "tells us that our result is significant and not by chance, also the p value suggests that we can ignore the null hypothesis and accept the alternate hypothesis that **there is a relation** between suicideper100 and quantity of alcohol consumption\n"
   ]
  },
  {
   "cell_type": "code",
   "execution_count": 128,
   "metadata": {},
   "outputs": [
    {
     "data": {
      "text/html": [
       "<div>\n",
       "<style>\n",
       "    .dataframe thead tr:only-child th {\n",
       "        text-align: right;\n",
       "    }\n",
       "\n",
       "    .dataframe thead th {\n",
       "        text-align: left;\n",
       "    }\n",
       "\n",
       "    .dataframe tbody tr th {\n",
       "        vertical-align: top;\n",
       "    }\n",
       "</style>\n",
       "<table border=\"1\" class=\"dataframe\">\n",
       "  <thead>\n",
       "    <tr style=\"text-align: right;\">\n",
       "      <th></th>\n",
       "      <th>suicideper100th</th>\n",
       "    </tr>\n",
       "    <tr>\n",
       "      <th>alcoholCategory</th>\n",
       "      <th></th>\n",
       "    </tr>\n",
       "  </thead>\n",
       "  <tbody>\n",
       "    <tr>\n",
       "      <th>1</th>\n",
       "      <td>8.704246</td>\n",
       "    </tr>\n",
       "    <tr>\n",
       "      <th>2</th>\n",
       "      <td>13.707727</td>\n",
       "    </tr>\n",
       "  </tbody>\n",
       "</table>\n",
       "</div>"
      ],
      "text/plain": [
       "                 suicideper100th\n",
       "alcoholCategory                 \n",
       "1                       8.704246\n",
       "2                      13.707727"
      ]
     },
     "execution_count": 128,
     "metadata": {},
     "output_type": "execute_result"
    }
   ],
   "source": [
    "#printing mean of different groups to check\n",
    "data_test.groupby('alcoholCategory').mean()"
   ]
  },
  {
   "cell_type": "markdown",
   "metadata": {},
   "source": [
    "as we can see there is a significant difference between means of two different groups"
   ]
  },
  {
   "cell_type": "code",
   "execution_count": 129,
   "metadata": {},
   "outputs": [
    {
     "data": {
      "text/html": [
       "<div>\n",
       "<style>\n",
       "    .dataframe thead tr:only-child th {\n",
       "        text-align: right;\n",
       "    }\n",
       "\n",
       "    .dataframe thead th {\n",
       "        text-align: left;\n",
       "    }\n",
       "\n",
       "    .dataframe tbody tr th {\n",
       "        vertical-align: top;\n",
       "    }\n",
       "</style>\n",
       "<table border=\"1\" class=\"dataframe\">\n",
       "  <thead>\n",
       "    <tr style=\"text-align: right;\">\n",
       "      <th></th>\n",
       "      <th>suicideper100th</th>\n",
       "    </tr>\n",
       "    <tr>\n",
       "      <th>alcoholCategory</th>\n",
       "      <th></th>\n",
       "    </tr>\n",
       "  </thead>\n",
       "  <tbody>\n",
       "    <tr>\n",
       "      <th>1</th>\n",
       "      <td>5.770432</td>\n",
       "    </tr>\n",
       "    <tr>\n",
       "      <th>2</th>\n",
       "      <td>7.081141</td>\n",
       "    </tr>\n",
       "  </tbody>\n",
       "</table>\n",
       "</div>"
      ],
      "text/plain": [
       "                 suicideper100th\n",
       "alcoholCategory                 \n",
       "1                       5.770432\n",
       "2                       7.081141"
      ]
     },
     "execution_count": 129,
     "metadata": {},
     "output_type": "execute_result"
    }
   ],
   "source": [
    "#printing standard deviation of different groups just to see\n",
    "data_test.groupby('alcoholCategory').std()"
   ]
  },
  {
   "cell_type": "markdown",
   "metadata": {},
   "source": [
    "now what if categorical explanatory variable has more than two groups, for this we will create new dataframe with \n",
    "income as explanatory variable and alcohol consumption as response variable"
   ]
  },
  {
   "cell_type": "code",
   "execution_count": 165,
   "metadata": {},
   "outputs": [
    {
     "data": {
      "text/plain": [
       "incomeperperson    0\n",
       "alcconsumption     0\n",
       "dtype: int64"
      ]
     },
     "execution_count": 165,
     "metadata": {},
     "output_type": "execute_result"
    }
   ],
   "source": [
    "#creating new data frame\n",
    "data_test1 = data[['incomeperperson', 'alcconsumption']].copy()\n",
    "data_test1.dropna(inplace=True)\n",
    "data_test1.apply(lambda x : sum(x.isnull()))"
   ]
  },
  {
   "cell_type": "code",
   "execution_count": 166,
   "metadata": {},
   "outputs": [],
   "source": [
    "data_test1['incomeCategory'] = pd.cut(data_test1['incomeperperson'], bins=4, labels=[1,2,3,4])"
   ]
  },
  {
   "cell_type": "code",
   "execution_count": 167,
   "metadata": {},
   "outputs": [
    {
     "data": {
      "text/plain": [
       "[1, 2, 3, 4]\n",
       "Categories (4, int64): [1 < 2 < 3 < 4]"
      ]
     },
     "execution_count": 167,
     "metadata": {},
     "output_type": "execute_result"
    }
   ],
   "source": [
    "data_test1['incomeCategory'].unique()"
   ]
  },
  {
   "cell_type": "code",
   "execution_count": 168,
   "metadata": {},
   "outputs": [],
   "source": [
    "data_test1 = data_test1.drop('incomeperperson', 1)"
   ]
  },
  {
   "cell_type": "code",
   "execution_count": 169,
   "metadata": {},
   "outputs": [
    {
     "data": {
      "text/plain": [
       "alcconsumption    0\n",
       "incomeCategory    0\n",
       "dtype: int64"
      ]
     },
     "execution_count": 169,
     "metadata": {},
     "output_type": "execute_result"
    }
   ],
   "source": [
    "data_test1.apply(lambda x : sum(x.isnull()))"
   ]
  },
  {
   "cell_type": "code",
   "execution_count": 170,
   "metadata": {},
   "outputs": [
    {
     "data": {
      "text/html": [
       "<table class=\"simpletable\">\n",
       "<caption>OLS Regression Results</caption>\n",
       "<tr>\n",
       "  <th>Dep. Variable:</th>     <td>alcconsumption</td>  <th>  R-squared:         </th> <td>   0.063</td>\n",
       "</tr>\n",
       "<tr>\n",
       "  <th>Model:</th>                   <td>OLS</td>       <th>  Adj. R-squared:    </th> <td>   0.047</td>\n",
       "</tr>\n",
       "<tr>\n",
       "  <th>Method:</th>             <td>Least Squares</td>  <th>  F-statistic:       </th> <td>   3.912</td>\n",
       "</tr>\n",
       "<tr>\n",
       "  <th>Date:</th>             <td>Sun, 01 Oct 2017</td> <th>  Prob (F-statistic):</th>  <td>0.00978</td>\n",
       "</tr>\n",
       "<tr>\n",
       "  <th>Time:</th>                 <td>22:58:09</td>     <th>  Log-Likelihood:    </th> <td> -532.18</td>\n",
       "</tr>\n",
       "<tr>\n",
       "  <th>No. Observations:</th>      <td>   179</td>      <th>  AIC:               </th> <td>   1072.</td>\n",
       "</tr>\n",
       "<tr>\n",
       "  <th>Df Residuals:</th>          <td>   175</td>      <th>  BIC:               </th> <td>   1085.</td>\n",
       "</tr>\n",
       "<tr>\n",
       "  <th>Df Model:</th>              <td>     3</td>      <th>                     </th>     <td> </td>   \n",
       "</tr>\n",
       "<tr>\n",
       "  <th>Covariance Type:</th>      <td>nonrobust</td>    <th>                     </th>     <td> </td>   \n",
       "</tr>\n",
       "</table>\n",
       "<table class=\"simpletable\">\n",
       "<tr>\n",
       "             <td></td>               <th>coef</th>     <th>std err</th>      <th>t</th>      <th>P>|t|</th>  <th>[0.025</th>    <th>0.975]</th>  \n",
       "</tr>\n",
       "<tr>\n",
       "  <th>Intercept</th>              <td>    6.2811</td> <td>    0.393</td> <td>   15.970</td> <td> 0.000</td> <td>    5.505</td> <td>    7.057</td>\n",
       "</tr>\n",
       "<tr>\n",
       "  <th>C(incomeCategory)[T.2]</th> <td>    3.0752</td> <td>    1.259</td> <td>    2.442</td> <td> 0.016</td> <td>    0.590</td> <td>    5.560</td>\n",
       "</tr>\n",
       "<tr>\n",
       "  <th>C(incomeCategory)[T.3]</th> <td>    3.4064</td> <td>    1.436</td> <td>    2.372</td> <td> 0.019</td> <td>    0.572</td> <td>    6.241</td>\n",
       "</tr>\n",
       "<tr>\n",
       "  <th>C(incomeCategory)[T.4]</th> <td>    3.3789</td> <td>    2.790</td> <td>    1.211</td> <td> 0.228</td> <td>   -2.128</td> <td>    8.886</td>\n",
       "</tr>\n",
       "</table>\n",
       "<table class=\"simpletable\">\n",
       "<tr>\n",
       "  <th>Omnibus:</th>       <td>14.802</td> <th>  Durbin-Watson:     </th> <td>   2.019</td>\n",
       "</tr>\n",
       "<tr>\n",
       "  <th>Prob(Omnibus):</th> <td> 0.001</td> <th>  Jarque-Bera (JB):  </th> <td>  16.037</td>\n",
       "</tr>\n",
       "<tr>\n",
       "  <th>Skew:</th>          <td> 0.715</td> <th>  Prob(JB):          </th> <td>0.000329</td>\n",
       "</tr>\n",
       "<tr>\n",
       "  <th>Kurtosis:</th>      <td> 3.323</td> <th>  Cond. No.          </th> <td>    7.86</td>\n",
       "</tr>\n",
       "</table>"
      ],
      "text/plain": [
       "<class 'statsmodels.iolib.summary.Summary'>\n",
       "\"\"\"\n",
       "                            OLS Regression Results                            \n",
       "==============================================================================\n",
       "Dep. Variable:         alcconsumption   R-squared:                       0.063\n",
       "Model:                            OLS   Adj. R-squared:                  0.047\n",
       "Method:                 Least Squares   F-statistic:                     3.912\n",
       "Date:                Sun, 01 Oct 2017   Prob (F-statistic):            0.00978\n",
       "Time:                        22:58:09   Log-Likelihood:                -532.18\n",
       "No. Observations:                 179   AIC:                             1072.\n",
       "Df Residuals:                     175   BIC:                             1085.\n",
       "Df Model:                           3                                         \n",
       "Covariance Type:            nonrobust                                         \n",
       "==========================================================================================\n",
       "                             coef    std err          t      P>|t|      [0.025      0.975]\n",
       "------------------------------------------------------------------------------------------\n",
       "Intercept                  6.2811      0.393     15.970      0.000       5.505       7.057\n",
       "C(incomeCategory)[T.2]     3.0752      1.259      2.442      0.016       0.590       5.560\n",
       "C(incomeCategory)[T.3]     3.4064      1.436      2.372      0.019       0.572       6.241\n",
       "C(incomeCategory)[T.4]     3.3789      2.790      1.211      0.228      -2.128       8.886\n",
       "==============================================================================\n",
       "Omnibus:                       14.802   Durbin-Watson:                   2.019\n",
       "Prob(Omnibus):                  0.001   Jarque-Bera (JB):               16.037\n",
       "Skew:                           0.715   Prob(JB):                     0.000329\n",
       "Kurtosis:                       3.323   Cond. No.                         7.86\n",
       "==============================================================================\n",
       "\n",
       "Warnings:\n",
       "[1] Standard Errors assume that the covariance matrix of the errors is correctly specified.\n",
       "\"\"\""
      ]
     },
     "execution_count": 170,
     "metadata": {},
     "output_type": "execute_result"
    }
   ],
   "source": [
    "model2 = smf.ols(formula='alcconsumption ~ C(incomeCategory)', data=data_test1)\n",
    "results2 = model2.fit()\n",
    "results2.summary()"
   ]
  },
  {
   "cell_type": "code",
   "execution_count": 171,
   "metadata": {},
   "outputs": [
    {
     "data": {
      "text/html": [
       "<div>\n",
       "<style>\n",
       "    .dataframe thead tr:only-child th {\n",
       "        text-align: right;\n",
       "    }\n",
       "\n",
       "    .dataframe thead th {\n",
       "        text-align: left;\n",
       "    }\n",
       "\n",
       "    .dataframe tbody tr th {\n",
       "        vertical-align: top;\n",
       "    }\n",
       "</style>\n",
       "<table border=\"1\" class=\"dataframe\">\n",
       "  <thead>\n",
       "    <tr style=\"text-align: right;\">\n",
       "      <th></th>\n",
       "      <th>alcconsumption</th>\n",
       "    </tr>\n",
       "    <tr>\n",
       "      <th>incomeCategory</th>\n",
       "      <th></th>\n",
       "    </tr>\n",
       "  </thead>\n",
       "  <tbody>\n",
       "    <tr>\n",
       "      <th>1</th>\n",
       "      <td>6.281081</td>\n",
       "    </tr>\n",
       "    <tr>\n",
       "      <th>2</th>\n",
       "      <td>9.356250</td>\n",
       "    </tr>\n",
       "    <tr>\n",
       "      <th>3</th>\n",
       "      <td>9.687500</td>\n",
       "    </tr>\n",
       "    <tr>\n",
       "      <th>4</th>\n",
       "      <td>9.660000</td>\n",
       "    </tr>\n",
       "  </tbody>\n",
       "</table>\n",
       "</div>"
      ],
      "text/plain": [
       "                alcconsumption\n",
       "incomeCategory                \n",
       "1                     6.281081\n",
       "2                     9.356250\n",
       "3                     9.687500\n",
       "4                     9.660000"
      ]
     },
     "execution_count": 171,
     "metadata": {},
     "output_type": "execute_result"
    }
   ],
   "source": [
    "data_test1.groupby('incomeCategory').mean()"
   ]
  },
  {
   "cell_type": "code",
   "execution_count": 172,
   "metadata": {},
   "outputs": [
    {
     "data": {
      "text/html": [
       "<div>\n",
       "<style>\n",
       "    .dataframe thead tr:only-child th {\n",
       "        text-align: right;\n",
       "    }\n",
       "\n",
       "    .dataframe thead th {\n",
       "        text-align: left;\n",
       "    }\n",
       "\n",
       "    .dataframe tbody tr th {\n",
       "        vertical-align: top;\n",
       "    }\n",
       "</style>\n",
       "<table border=\"1\" class=\"dataframe\">\n",
       "  <thead>\n",
       "    <tr style=\"text-align: right;\">\n",
       "      <th></th>\n",
       "      <th>alcconsumption</th>\n",
       "    </tr>\n",
       "    <tr>\n",
       "      <th>incomeCategory</th>\n",
       "      <th></th>\n",
       "    </tr>\n",
       "  </thead>\n",
       "  <tbody>\n",
       "    <tr>\n",
       "      <th>1</th>\n",
       "      <td>4.861032</td>\n",
       "    </tr>\n",
       "    <tr>\n",
       "      <th>2</th>\n",
       "      <td>4.529893</td>\n",
       "    </tr>\n",
       "    <tr>\n",
       "      <th>3</th>\n",
       "      <td>4.365914</td>\n",
       "    </tr>\n",
       "    <tr>\n",
       "      <th>4</th>\n",
       "      <td>2.768158</td>\n",
       "    </tr>\n",
       "  </tbody>\n",
       "</table>\n",
       "</div>"
      ],
      "text/plain": [
       "                alcconsumption\n",
       "incomeCategory                \n",
       "1                     4.861032\n",
       "2                     4.529893\n",
       "3                     4.365914\n",
       "4                     2.768158"
      ]
     },
     "execution_count": 172,
     "metadata": {},
     "output_type": "execute_result"
    }
   ],
   "source": [
    "data_test1.groupby('incomeCategory').std()"
   ]
  },
  {
   "cell_type": "code",
   "execution_count": 173,
   "metadata": {},
   "outputs": [
    {
     "data": {
      "text/plain": [
       "incomeCategory\n",
       "1    148\n",
       "2     16\n",
       "3     12\n",
       "4      3\n",
       "dtype: int64"
      ]
     },
     "execution_count": 173,
     "metadata": {},
     "output_type": "execute_result"
    }
   ],
   "source": [
    "#showing no. of rows in each income group\n",
    "data_test1.groupby('incomeCategory').size()"
   ]
  },
  {
   "cell_type": "markdown",
   "metadata": {},
   "source": [
    "here even though we have p-value < 0.05 we cant reject the null hypothesis , as we have multiple levels of our categorical variable and our test does not tells us in what way the means are not statistically equal"
   ]
  },
  {
   "cell_type": "markdown",
   "metadata": {},
   "source": [
    "for this we need to do post-hoc (after the fact) test <br>\n",
    "here we will do tukey's Honestly Significant Difference test (**HSD**)"
   ]
  },
  {
   "cell_type": "code",
   "execution_count": 174,
   "metadata": {},
   "outputs": [],
   "source": [
    "#doing the required import\n",
    "import  statsmodels.stats.multicomp as multi"
   ]
  },
  {
   "cell_type": "code",
   "execution_count": 175,
   "metadata": {},
   "outputs": [
    {
     "data": {
      "text/html": [
       "<table class=\"simpletable\">\n",
       "<caption>Multiple Comparison of Means - Tukey HSD,FWER=0.05</caption>\n",
       "<tr>\n",
       "  <th>group1</th> <th>group2</th> <th>meandiff</th>  <th>lower</th>   <th>upper</th>  <th>reject</th>\n",
       "</tr>\n",
       "<tr>\n",
       "     <td>1</td>      <td>2</td>    <td>3.0752</td>  <td>-0.1912</td> <td>6.3415</td>   <td>False</td>\n",
       "</tr>\n",
       "<tr>\n",
       "     <td>1</td>      <td>3</td>    <td>3.4064</td>  <td>-0.319</td>  <td>7.1318</td>   <td>False</td>\n",
       "</tr>\n",
       "<tr>\n",
       "     <td>1</td>      <td>4</td>    <td>3.3789</td>  <td>-3.8593</td> <td>10.6171</td>  <td>False</td>\n",
       "</tr>\n",
       "<tr>\n",
       "     <td>2</td>      <td>3</td>    <td>0.3312</td>  <td>-4.4086</td> <td>5.0711</td>   <td>False</td>\n",
       "</tr>\n",
       "<tr>\n",
       "     <td>2</td>      <td>4</td>    <td>0.3037</td>  <td>-7.5051</td> <td>8.1126</td>   <td>False</td>\n",
       "</tr>\n",
       "<tr>\n",
       "     <td>3</td>      <td>4</td>    <td>-0.0275</td> <td>-8.0392</td> <td>7.9842</td>   <td>False</td>\n",
       "</tr>\n",
       "</table>"
      ],
      "text/plain": [
       "<class 'statsmodels.iolib.table.SimpleTable'>"
      ]
     },
     "execution_count": 175,
     "metadata": {},
     "output_type": "execute_result"
    }
   ],
   "source": [
    "mc1 = multi.MultiComparison(data_test1['alcconsumption'], data_test1['incomeCategory'])\n",
    "res1 = mc1.tukeyhsd()\n",
    "res1.summary()"
   ]
  },
  {
   "cell_type": "markdown",
   "metadata": {},
   "source": [
    "in above table we check the last column if the value is true in that case we can reject the null hypothesis, but here all are false so we can't reject the null hypothesis in any case , so we have to accept the null hypothesis .. also we can see our categorical data was not evenly distributed from \"data_test1.groupby('incomeCategory').size()\", so may be low p-value was just by some data categorization error (just my thought)"
   ]
  },
  {
   "cell_type": "markdown",
   "metadata": {},
   "source": [
    "## Chi^2 "
   ]
  },
  {
   "cell_type": "markdown",
   "metadata": {},
   "source": [
    "when both the variables are categorical <br>\n",
    "chi^2 test of independence - when both the variables are categorical, <br> \n",
    "In the standard applications of the test, the observations are classified into mutually exclusive classes, and there is some theory, or say null hypothesis, which gives the probability that any observation falls into the corresponding class. The purpose of the test is to evaluate how likely it is between the observations and the null hypothesis.** [wikipedia](https://en.wikipedia.org/wiki/Chi-squared_test) ** <br>\n",
    "\n",
    "Now as from probability p (A * B) = P(A) * P(B) (for mutually exclusive)\n",
    "so if we put our categorical data in crosstab format and after that calculate the probabilities for each cell we will get the values (expected data) if the null hypothesis was true. And then we can compare that with the original crosstab data (observed data) <br>\n",
    "Below is the formula"
   ]
  },
  {
   "cell_type": "code",
   "execution_count": 191,
   "metadata": {},
   "outputs": [
    {
     "data": {
      "text/latex": [
       "\\begin{align}\n",
       "chi^2& =\\sum _{all\\hspace{0.1cm}cells}\\frac{(expected\\hspace{0.2cm}counts - observed\\hspace{0.2cm}counts)^2}{expected\\hspace{0.2cm}counts}\n",
       "\\end{align}"
      ],
      "text/plain": [
       "<IPython.core.display.Latex object>"
      ]
     },
     "metadata": {},
     "output_type": "display_data"
    }
   ],
   "source": [
    "%%latex\n",
    "\\begin{align}\n",
    "chi^2& =\\sum _{all\\hspace{0.1cm}cells}\\frac{(expected\\hspace{0.2cm}counts - observed\\hspace{0.2cm}counts)^2}{expected\\hspace{0.2cm}counts}\n",
    "\\end{align}"
   ]
  },
  {
   "cell_type": "markdown",
   "metadata": {},
   "source": [
    "now depending on the no of categories in each variable we have a value considered large , and if our chi^2 value is larger than that value we can reject null hypothesis. <br>\n",
    "But here also we will use p-value to make any conclusion"
   ]
  },
  {
   "cell_type": "code",
   "execution_count": 192,
   "metadata": {},
   "outputs": [
    {
     "data": {
      "text/plain": [
       "internetuserate    0\n",
       "urbanrate          0\n",
       "dtype: int64"
      ]
     },
     "execution_count": 192,
     "metadata": {},
     "output_type": "execute_result"
    }
   ],
   "source": [
    "#now we will use the chi squared test , so for that we need two categorical variable, here we will use internet use vs urban rate\n",
    "#and make these two categorical\n",
    "data_test2 = data[['internetuserate','urbanrate']].copy()\n",
    "data_test2.dropna(inplace=True)\n",
    "data_test2.apply(lambda x : sum(x.isnull()))"
   ]
  },
  {
   "cell_type": "code",
   "execution_count": 193,
   "metadata": {},
   "outputs": [
    {
     "data": {
      "text/plain": [
       "380"
      ]
     },
     "execution_count": 193,
     "metadata": {},
     "output_type": "execute_result"
    }
   ],
   "source": [
    "data_test2.size"
   ]
  },
  {
   "cell_type": "code",
   "execution_count": 194,
   "metadata": {},
   "outputs": [
    {
     "data": {
      "text/plain": [
       "[1, 2]\n",
       "Categories (2, int64): [1 < 2]"
      ]
     },
     "execution_count": 194,
     "metadata": {},
     "output_type": "execute_result"
    }
   ],
   "source": [
    "data_test2['internetCategory'] = pd.cut(data_test2['internetuserate'], bins=2, labels=[1,2])\n",
    "data_test2['internetCategory'].unique()"
   ]
  },
  {
   "cell_type": "code",
   "execution_count": 196,
   "metadata": {},
   "outputs": [
    {
     "data": {
      "text/plain": [
       "[3, 4]\n",
       "Categories (2, int64): [3 < 4]"
      ]
     },
     "execution_count": 196,
     "metadata": {},
     "output_type": "execute_result"
    }
   ],
   "source": [
    "data_test2['urbanCategory'] = pd.cut(data_test2['urbanrate'], bins=2, labels=[3,4])\n",
    "data_test2['urbanCategory'].unique()"
   ]
  },
  {
   "cell_type": "code",
   "execution_count": 197,
   "metadata": {
    "collapsed": true
   },
   "outputs": [],
   "source": [
    "data_test2 = data_test2.drop(['internetuserate','urbanrate'], 1)"
   ]
  },
  {
   "cell_type": "code",
   "execution_count": 199,
   "metadata": {},
   "outputs": [
    {
     "data": {
      "text/html": [
       "<div>\n",
       "<style>\n",
       "    .dataframe thead tr:only-child th {\n",
       "        text-align: right;\n",
       "    }\n",
       "\n",
       "    .dataframe thead th {\n",
       "        text-align: left;\n",
       "    }\n",
       "\n",
       "    .dataframe tbody tr th {\n",
       "        vertical-align: top;\n",
       "    }\n",
       "</style>\n",
       "<table border=\"1\" class=\"dataframe\">\n",
       "  <thead>\n",
       "    <tr style=\"text-align: right;\">\n",
       "      <th></th>\n",
       "      <th>internetCategory</th>\n",
       "      <th>urbanCategory</th>\n",
       "    </tr>\n",
       "  </thead>\n",
       "  <tbody>\n",
       "    <tr>\n",
       "      <th>0</th>\n",
       "      <td>1</td>\n",
       "      <td>3</td>\n",
       "    </tr>\n",
       "    <tr>\n",
       "      <th>1</th>\n",
       "      <td>1</td>\n",
       "      <td>3</td>\n",
       "    </tr>\n",
       "    <tr>\n",
       "      <th>2</th>\n",
       "      <td>1</td>\n",
       "      <td>4</td>\n",
       "    </tr>\n",
       "    <tr>\n",
       "      <th>3</th>\n",
       "      <td>2</td>\n",
       "      <td>4</td>\n",
       "    </tr>\n",
       "    <tr>\n",
       "      <th>4</th>\n",
       "      <td>1</td>\n",
       "      <td>4</td>\n",
       "    </tr>\n",
       "  </tbody>\n",
       "</table>\n",
       "</div>"
      ],
      "text/plain": [
       "  internetCategory urbanCategory\n",
       "0                1             3\n",
       "1                1             3\n",
       "2                1             4\n",
       "3                2             4\n",
       "4                1             4"
      ]
     },
     "execution_count": 199,
     "metadata": {},
     "output_type": "execute_result"
    }
   ],
   "source": [
    "#now we have our data\n",
    "data_test2.head()"
   ]
  },
  {
   "cell_type": "markdown",
   "metadata": {},
   "source": [
    "here we will use urbanCategory as explanotory variable and internetCategory as response variable"
   ]
  },
  {
   "cell_type": "code",
   "execution_count": 200,
   "metadata": {
    "collapsed": true
   },
   "outputs": [],
   "source": [
    "#import required libraries\n",
    "import scipy.stats"
   ]
  },
  {
   "cell_type": "code",
   "execution_count": 201,
   "metadata": {},
   "outputs": [
    {
     "data": {
      "text/html": [
       "<div>\n",
       "<style>\n",
       "    .dataframe thead tr:only-child th {\n",
       "        text-align: right;\n",
       "    }\n",
       "\n",
       "    .dataframe thead th {\n",
       "        text-align: left;\n",
       "    }\n",
       "\n",
       "    .dataframe tbody tr th {\n",
       "        vertical-align: top;\n",
       "    }\n",
       "</style>\n",
       "<table border=\"1\" class=\"dataframe\">\n",
       "  <thead>\n",
       "    <tr style=\"text-align: right;\">\n",
       "      <th>urbanCategory</th>\n",
       "      <th>3</th>\n",
       "      <th>4</th>\n",
       "    </tr>\n",
       "    <tr>\n",
       "      <th>internetCategory</th>\n",
       "      <th></th>\n",
       "      <th></th>\n",
       "    </tr>\n",
       "  </thead>\n",
       "  <tbody>\n",
       "    <tr>\n",
       "      <th>1</th>\n",
       "      <td>79</td>\n",
       "      <td>52</td>\n",
       "    </tr>\n",
       "    <tr>\n",
       "      <th>2</th>\n",
       "      <td>9</td>\n",
       "      <td>50</td>\n",
       "    </tr>\n",
       "  </tbody>\n",
       "</table>\n",
       "</div>"
      ],
      "text/plain": [
       "urbanCategory      3   4\n",
       "internetCategory        \n",
       "1                 79  52\n",
       "2                  9  50"
      ]
     },
     "execution_count": 201,
     "metadata": {},
     "output_type": "execute_result"
    }
   ],
   "source": [
    "ct1 = pd.crosstab(data_test2['internetCategory'], data_test2['urbanCategory'])\n",
    "ct1"
   ]
  },
  {
   "cell_type": "code",
   "execution_count": 203,
   "metadata": {},
   "outputs": [
    {
     "data": {
      "text/html": [
       "<div>\n",
       "<style>\n",
       "    .dataframe thead tr:only-child th {\n",
       "        text-align: right;\n",
       "    }\n",
       "\n",
       "    .dataframe thead th {\n",
       "        text-align: left;\n",
       "    }\n",
       "\n",
       "    .dataframe tbody tr th {\n",
       "        vertical-align: top;\n",
       "    }\n",
       "</style>\n",
       "<table border=\"1\" class=\"dataframe\">\n",
       "  <thead>\n",
       "    <tr style=\"text-align: right;\">\n",
       "      <th>urbanCategory</th>\n",
       "      <th>3</th>\n",
       "      <th>4</th>\n",
       "    </tr>\n",
       "    <tr>\n",
       "      <th>internetCategory</th>\n",
       "      <th></th>\n",
       "      <th></th>\n",
       "    </tr>\n",
       "  </thead>\n",
       "  <tbody>\n",
       "    <tr>\n",
       "      <th>1</th>\n",
       "      <td>0.897727</td>\n",
       "      <td>0.509804</td>\n",
       "    </tr>\n",
       "    <tr>\n",
       "      <th>2</th>\n",
       "      <td>0.102273</td>\n",
       "      <td>0.490196</td>\n",
       "    </tr>\n",
       "  </tbody>\n",
       "</table>\n",
       "</div>"
      ],
      "text/plain": [
       "urbanCategory            3         4\n",
       "internetCategory                    \n",
       "1                 0.897727  0.509804\n",
       "2                 0.102273  0.490196"
      ]
     },
     "execution_count": 203,
     "metadata": {},
     "output_type": "execute_result"
    }
   ],
   "source": [
    "# now generation column percentage\n",
    "colsum = ct1.sum(axis=0)\n",
    "colpct = ct1/colsum\n",
    "colpct"
   ]
  },
  {
   "cell_type": "code",
   "execution_count": 207,
   "metadata": {},
   "outputs": [
    {
     "name": "stdout",
     "output_type": "stream",
     "text": [
      "chi 2 value,  p value,  count\n"
     ]
    },
    {
     "data": {
      "text/plain": [
       "(31.417949915001699,\n",
       " 2.0804860352894607e-08,\n",
       " 1,\n",
       " array([[ 60.67368421,  70.32631579],\n",
       "        [ 27.32631579,  31.67368421]]))"
      ]
     },
     "execution_count": 207,
     "metadata": {},
     "output_type": "execute_result"
    }
   ],
   "source": [
    "print('chi 2 value, ','p value, ','count')\n",
    "cs1 = scipy.stats.chi2_contingency(ct1)\n",
    "cs1"
   ]
  },
  {
   "cell_type": "markdown",
   "metadata": {},
   "source": [
    "as from above result we can see the p-value is really small , which means that internetrate is dependent on urbanrate"
   ]
  },
  {
   "cell_type": "markdown",
   "metadata": {},
   "source": [
    "Remember when we had more than 2 levels the chi squared value(in this case not in ANOVA) and p value do not provide \n",
    "insight into why we should reject the null hypothesis. <br>\n",
    "Again we need to do the post - hoc test we will use the bonferroni adjustment - in this test we have a adjusted p-values\n",
    "based on number of comparison eg if we have 5 vategories in our explanatory variable which means we have 5c2 = 10 comparisons\n",
    "and the bonferroni adjusted p-value will be 0.05/10 for this and we can only reject the null hypothesis when the p-value is less than the bonferroni adjusted p-value = 0.005. <br>\n",
    "\n",
    "After this we chose two categories at a time and then do the chi squared test and see the p-value and if that is smaller than the adjusted values we can reject the null hypothesis else not. Below is how you can do it"
   ]
  },
  {
   "cell_type": "code",
   "execution_count": 211,
   "metadata": {
    "collapsed": true
   },
   "outputs": [],
   "source": [
    "data_test3 = data[['internetuserate','urbanrate']].copy()\n",
    "data_test3.dropna(inplace=True)\n",
    "data_test3.apply(lambda x : sum(x.isnull()))\n",
    "data_test3['internetCategory'] = pd.cut(data_test3['internetuserate'], bins=2, labels=[1,2])\n",
    "data_test3['urbanCategory'] = pd.cut(data_test3['urbanrate'], bins=3, labels=[3,4,5])\n",
    "data_test3 = data_test3.drop(['internetuserate','urbanrate'], 1)"
   ]
  },
  {
   "cell_type": "code",
   "execution_count": 213,
   "metadata": {},
   "outputs": [],
   "source": [
    "mapcodes = {3: 3, 4: 4}\n",
    "data_test3['test_col'] = data_test3['urbanCategory'].map(mapcodes)"
   ]
  },
  {
   "cell_type": "code",
   "execution_count": 217,
   "metadata": {},
   "outputs": [
    {
     "data": {
      "text/plain": [
       "array([  3.,   4.,  nan])"
      ]
     },
     "execution_count": 217,
     "metadata": {},
     "output_type": "execute_result"
    }
   ],
   "source": [
    "data_test3['test_col'].unique()\n",
    "#now we can use this test_col for comparing 3, 4 values of urbanCategory to internetCategory, \n",
    "#similarly we can do for 4, 5 and 3, 5"
   ]
  },
  {
   "cell_type": "code",
   "execution_count": 218,
   "metadata": {},
   "outputs": [
    {
     "data": {
      "text/plain": [
       "[3, 4, 5]\n",
       "Categories (3, int64): [3 < 4 < 5]"
      ]
     },
     "execution_count": 218,
     "metadata": {},
     "output_type": "execute_result"
    }
   ],
   "source": [
    "data_test3['urbanCategory'].unique()"
   ]
  },
  {
   "cell_type": "markdown",
   "metadata": {},
   "source": [
    "## Pearson Correlation"
   ]
  },
  {
   "cell_type": "markdown",
   "metadata": {},
   "source": [
    "when both the variables are quantitative. <br>\n",
    "this is a measure of the **linear correlation** between two variables X and Y. It has a value between +1 and −1, where 1 is total positive linear correlation, 0 is no linear correlation, and −1 is total negative linear correlation"
   ]
  },
  {
   "cell_type": "code",
   "execution_count": 219,
   "metadata": {
    "collapsed": true
   },
   "outputs": [],
   "source": [
    "#creating a test dataframe for our testing \n",
    "data_test4 = data[['internetuserate','urbanrate']].copy()\n",
    "data_test4.dropna(inplace=True)"
   ]
  },
  {
   "cell_type": "code",
   "execution_count": 235,
   "metadata": {},
   "outputs": [
    {
     "data": {
      "text/plain": [
       "<matplotlib.axes._subplots.AxesSubplot at 0xd1308d0>"
      ]
     },
     "execution_count": 235,
     "metadata": {},
     "output_type": "execute_result"
    },
    {
     "data": {
      "image/png": "[encoded data removed]",
      "text/plain": [
       "<matplotlib.figure.Figure at 0xc47ef28>"
      ]
     },
     "metadata": {},
     "output_type": "display_data"
    }
   ],
   "source": [
    "#the best way to look at two quantitative variable is to look at the scatter plot\n",
    "%matplotlib inline\n",
    "data_test4.plot(kind='scatter', x='urbanrate', y='internetuserate', figsize=((10,5)), alpha=0.7)"
   ]
  },
  {
   "cell_type": "code",
   "execution_count": 234,
   "metadata": {},
   "outputs": [
    {
     "data": {
      "text/plain": [
       "<matplotlib.axes._subplots.AxesSubplot at 0xcea3940>"
      ]
     },
     "execution_count": 234,
     "metadata": {},
     "output_type": "execute_result"
    },
    {
     "data": {
      "image/png": "[encoded data removed]",
      "text/plain": [
       "<matplotlib.figure.Figure at 0xce0d4a8>"
      ]
     },
     "metadata": {},
     "output_type": "display_data"
    }
   ],
   "source": [
    "#also we can plot the above plot using seaborn regplot which will have the best fit line \n",
    "import seaborn as sns\n",
    "sns.regplot(data=data_test4, x='urbanrate', y='internetuserate')"
   ]
  },
  {
   "cell_type": "markdown",
   "metadata": {},
   "source": [
    "as we can see from above plot that we have a +ve linear relationship but for determining how strong is the relationship \n",
    "we will use the pearson correlation coefficient (r)"
   ]
  },
  {
   "cell_type": "code",
   "execution_count": 243,
   "metadata": {},
   "outputs": [
    {
     "name": "stdout",
     "output_type": "stream",
     "text": [
      " r                  ,   p-value\n"
     ]
    },
    {
     "data": {
      "text/plain": [
       "(0.61394607018668523, 4.5596405351862438e-21)"
      ]
     },
     "execution_count": 243,
     "metadata": {},
     "output_type": "execute_result"
    }
   ],
   "source": [
    "#now calculating the pearson coefficient\n",
    "print(' r                  ,   p-value')\n",
    "scipy.stats.pearsonr(data_test4['urbanrate'], data_test4['internetuserate'])"
   ]
  },
  {
   "cell_type": "markdown",
   "metadata": {},
   "source": [
    "as we can see from above output we have a +ve correlation and our p-value in very less , so there is a relation between the two variables"
   ]
  },
  {
   "cell_type": "markdown",
   "metadata": {},
   "source": [
    "*Post Hoc Tests* are only conducted when we have categorical explanatory variable <br>\n",
    "Also we can use r value for other statistics calculation, e.g. 0.61^2 = 0.37, this states that if we know the \"urban rate\",\n",
    "we can predict 37% variability we will see in the rate of internet usage\n"
   ]
  },
  {
   "cell_type": "markdown",
   "metadata": {},
   "source": [
    "## Statistical Interaction\n",
    "it is defined as relation between two variable that is dependent upon or moderated by a third variable. <br>\n",
    "e.g. do people prefer soy sauce or ketchup is dependent on the food they are eating"
   ]
  },
  {
   "cell_type": "markdown",
   "metadata": {},
   "source": [
    "what we can do here is we can take the two variables and then test the hypothesis using ANOVA or chi-square , depending on the type of explanatory and response variable, after that we can do the same testing considering the different values of moderator variable and see how our result varies."
   ]
  },
  {
   "cell_type": "code",
   "execution_count": null,
   "metadata": {
    "collapsed": true
   },
   "outputs": [],
   "source": []
  }
 ],
 "metadata": {
  "kernelspec": {
   "display_name": "Python 3",
   "language": "python",
   "name": "python3"
  },
  "language_info": {
   "codemirror_mode": {
    "name": "ipython",
    "version": 3
   },
   "file_extension": ".py",
   "mimetype": "text/x-python",
   "name": "python",
   "nbconvert_exporter": "python",
   "pygments_lexer": "ipython3",
   "version": "3.6.1"
  }
 },
 "nbformat": 4,
 "nbformat_minor": 2
}
